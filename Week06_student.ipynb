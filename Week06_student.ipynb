{
 "cells": [
  {
   "cell_type": "markdown",
   "id": "f0951ab1",
   "metadata": {},
   "source": [
    "# **Python For Neuro Week 6**: More Numpy and Pandas\n",
    "\n",
    "## Warmup\n",
    "\n",
    "We're going to start today by loading in ```mat_1.npy``` again. If you don't remember how to do this, use google to find the right function to use. Please assign the array to variable called ```arr```."
   ]
  },
  {
   "cell_type": "code",
   "execution_count": null,
   "id": "652ede52",
   "metadata": {},
   "outputs": [],
   "source": [
    "# load in data\n",
    "import numpy as np\n",
    "arr = np.load('ex_array.npy') #your code here - and it needs to be in the same file like the code othervise it wont find the file"
   ]
  },
  {
   "cell_type": "markdown",
   "id": "38098018",
   "metadata": {},
   "source": [
    "## Summary operations"
   ]
  },
  {
   "cell_type": "markdown",
   "id": "de7eed1d",
   "metadata": {},
   "source": [
    "Summary operations allow you to collapse an array according to a certain summary statistic. For instance, we may want to compute the overall mean firing rate in our experimental data:"
   ]
  },
  {
   "cell_type": "code",
   "execution_count": null,
   "id": "7a0fd990",
   "metadata": {},
   "outputs": [],
   "source": [
    "arr.mean()"
   ]
  },
  {
   "cell_type": "markdown",
   "id": "a54761f6",
   "metadata": {},
   "source": [
    "You can also specify the axis along we want to average. For instance, maybe we want to average firing rates across individual trials:"
   ]
  },
  {
   "cell_type": "code",
   "execution_count": null,
   "id": "7eb77e44",
   "metadata": {},
   "outputs": [],
   "source": [
    "arr.shape"
   ]
  },
  {
   "cell_type": "code",
   "execution_count": null,
   "id": "fb024f5e",
   "metadata": {},
   "outputs": [],
   "source": [
    "arr_across_trials = arr.mean(axis=1)"
   ]
  },
  {
   "cell_type": "code",
   "execution_count": null,
   "id": "2ee73214",
   "metadata": {},
   "outputs": [],
   "source": [
    "arr_across_trials.shape"
   ]
  },
  {
   "cell_type": "markdown",
   "id": "3842743e",
   "metadata": {},
   "source": [
    "The `keepdims` argument means that you don't remove the dimensions you're averaging over, but rather set their length to 1:"
   ]
  },
  {
   "cell_type": "code",
   "execution_count": null,
   "id": "99c9d903",
   "metadata": {},
   "outputs": [],
   "source": [
    "arr_across_trials = arr.mean(axis=1, keepdims=True)"
   ]
  },
  {
   "cell_type": "code",
   "execution_count": null,
   "id": "da36b331",
   "metadata": {},
   "outputs": [],
   "source": [
    "arr_across_trials.shape"
   ]
  },
  {
   "cell_type": "markdown",
   "id": "7f473586",
   "metadata": {},
   "source": [
    "You can average across multiple axes as well. For instance, maybe you want to average across both trials and time:"
   ]
  },
  {
   "cell_type": "code",
   "execution_count": null,
   "id": "45b7f3f3",
   "metadata": {},
   "outputs": [],
   "source": [
    "arr_across_trials_and_time = arr.mean(axis=(1,3))"
   ]
  },
  {
   "cell_type": "code",
   "execution_count": null,
   "id": "d3dbb6e2",
   "metadata": {},
   "outputs": [],
   "source": [
    "arr_across_trials_and_time.shape"
   ]
  },
  {
   "cell_type": "markdown",
   "id": "d03eebc0",
   "metadata": {},
   "source": [
    "### Question 1\n",
    "\n",
    "- What is the average firing rate across all neurons, times, and trials for each condition?\n",
    "- (Advanced.) Subtract the average firing rate per time across all neurons, trials, and conditions from the original array."
   ]
  },
  {
   "cell_type": "code",
   "execution_count": null,
   "id": "5ce6e6c7",
   "metadata": {},
   "outputs": [],
   "source": []
  },
  {
   "cell_type": "markdown",
   "id": "f085ffae",
   "metadata": {},
   "source": [
    "## Indexing"
   ]
  },
  {
   "cell_type": "markdown",
   "id": "2bc54bf7",
   "metadata": {},
   "source": [
    "Indexing in vectors works just as in lists:"
   ]
  },
  {
   "cell_type": "code",
   "execution_count": 6,
   "id": "374cb0e3",
   "metadata": {},
   "outputs": [],
   "source": [
    "vec_1 = np.array([1,2,3])"
   ]
  },
  {
   "cell_type": "code",
   "execution_count": 7,
   "id": "96968d88",
   "metadata": {},
   "outputs": [
    {
     "data": {
      "text/plain": [
       "1"
      ]
     },
     "execution_count": 7,
     "metadata": {},
     "output_type": "execute_result"
    }
   ],
   "source": [
    "vec_1[0]"
   ]
  },
  {
   "cell_type": "markdown",
   "id": "54217d3a",
   "metadata": {},
   "source": [
    "For matrices and higher-dimensional arrays, a single index selects a single row:"
   ]
  },
  {
   "cell_type": "code",
   "execution_count": 10,
   "id": "953b1db4",
   "metadata": {},
   "outputs": [],
   "source": [
    "mat_1 = np.array(([1,2,3],[4,5,6]))"
   ]
  },
  {
   "cell_type": "code",
   "execution_count": 11,
   "id": "e8cd2075",
   "metadata": {},
   "outputs": [
    {
     "data": {
      "text/plain": [
       "array([1, 2, 3])"
      ]
     },
     "execution_count": 11,
     "metadata": {},
     "output_type": "execute_result"
    }
   ],
   "source": [
    "mat_1[0]"
   ]
  },
  {
   "cell_type": "code",
   "execution_count": 12,
   "id": "650eda88",
   "metadata": {},
   "outputs": [
    {
     "data": {
      "text/plain": [
       "2"
      ]
     },
     "execution_count": 12,
     "metadata": {},
     "output_type": "execute_result"
    }
   ],
   "source": [
    "mat_1[0][1]"
   ]
  },
  {
   "cell_type": "markdown",
   "id": "24275c28",
   "metadata": {},
   "source": [
    "Instead of using two brackets, you can also separate the row and column index by a comma:"
   ]
  },
  {
   "cell_type": "code",
   "execution_count": 13,
   "id": "7d60da6e",
   "metadata": {},
   "outputs": [
    {
     "name": "stdout",
     "output_type": "stream",
     "text": [
      "1\n",
      "1\n"
     ]
    }
   ],
   "source": [
    "# The following two lines of code are equivalent\n",
    "print(mat_1[0][0])\n",
    "print(mat_1[0,0])"
   ]
  },
  {
   "cell_type": "markdown",
   "id": "fe179cfd",
   "metadata": {},
   "source": [
    "### Slicing"
   ]
  },
  {
   "cell_type": "markdown",
   "id": "1802e2a7",
   "metadata": {},
   "source": [
    "Slicing is a useful way of extracting more than one element. In particular, `j:k` extracts the elements j,...,k-1:"
   ]
  },
  {
   "cell_type": "code",
   "execution_count": 14,
   "id": "6d8cfa38",
   "metadata": {},
   "outputs": [
    {
     "name": "stdout",
     "output_type": "stream",
     "text": [
      "[0 1 2 3 4 5 6 7 8 9]\n"
     ]
    }
   ],
   "source": [
    "vec = np.arange(10)\n",
    "print(vec)"
   ]
  },
  {
   "cell_type": "code",
   "execution_count": 15,
   "id": "8bfeb894",
   "metadata": {},
   "outputs": [
    {
     "data": {
      "text/plain": [
       "array([3, 4, 5, 6])"
      ]
     },
     "execution_count": 15,
     "metadata": {},
     "output_type": "execute_result"
    }
   ],
   "source": [
    "vec[3:7]"
   ]
  },
  {
   "cell_type": "markdown",
   "id": "a1212e86",
   "metadata": {},
   "source": [
    "We can leave either end of the range away and it will default to the beginning and the end of the list, respectively."
   ]
  },
  {
   "cell_type": "code",
   "execution_count": 16,
   "id": "3c5452cd",
   "metadata": {},
   "outputs": [
    {
     "data": {
      "text/plain": [
       "array([0, 1, 2, 3, 4, 5, 6])"
      ]
     },
     "execution_count": 16,
     "metadata": {},
     "output_type": "execute_result"
    }
   ],
   "source": [
    "vec[:7]"
   ]
  },
  {
   "cell_type": "code",
   "execution_count": 17,
   "id": "cbe43dd8",
   "metadata": {},
   "outputs": [
    {
     "data": {
      "text/plain": [
       "array([3, 4, 5, 6, 7, 8, 9])"
      ]
     },
     "execution_count": 17,
     "metadata": {},
     "output_type": "execute_result"
    }
   ],
   "source": [
    "vec[3:]"
   ]
  },
  {
   "cell_type": "code",
   "execution_count": 18,
   "id": "bf96dd64",
   "metadata": {},
   "outputs": [
    {
     "data": {
      "text/plain": [
       "array([0, 1, 2, 3, 4, 5, 6, 7, 8, 9])"
      ]
     },
     "execution_count": 18,
     "metadata": {},
     "output_type": "execute_result"
    }
   ],
   "source": [
    "vec[:] # What do you think this will do?"
   ]
  },
  {
   "cell_type": "markdown",
   "id": "7fccec03",
   "metadata": {},
   "source": [
    "You can therefore also use the colon to select all rows of a matrix and specific columns."
   ]
  },
  {
   "cell_type": "code",
   "execution_count": 19,
   "id": "9f8c9b36",
   "metadata": {},
   "outputs": [
    {
     "data": {
      "text/plain": [
       "array([[1, 2, 3],\n",
       "       [4, 5, 6]])"
      ]
     },
     "execution_count": 19,
     "metadata": {},
     "output_type": "execute_result"
    }
   ],
   "source": [
    "mat_1"
   ]
  },
  {
   "cell_type": "code",
   "execution_count": 20,
   "id": "12018771",
   "metadata": {},
   "outputs": [
    {
     "data": {
      "text/plain": [
       "array([1, 4])"
      ]
     },
     "execution_count": 20,
     "metadata": {},
     "output_type": "execute_result"
    }
   ],
   "source": [
    "mat_1[:,0]"
   ]
  },
  {
   "cell_type": "markdown",
   "id": "a7793ec5",
   "metadata": {},
   "source": [
    "You can add another colon to specify a step size, similarly to how you would use these three arguments in `range`."
   ]
  },
  {
   "cell_type": "code",
   "execution_count": 21,
   "id": "11165fb2",
   "metadata": {},
   "outputs": [
    {
     "data": {
      "text/plain": [
       "array([3, 5])"
      ]
     },
     "execution_count": 21,
     "metadata": {},
     "output_type": "execute_result"
    }
   ],
   "source": [
    "vec[3:7:2]"
   ]
  },
  {
   "cell_type": "markdown",
   "id": "678f7aba",
   "metadata": {},
   "source": [
    "We could still leave away the beginning or the end of the slice:"
   ]
  },
  {
   "cell_type": "code",
   "execution_count": 22,
   "id": "fbb86466",
   "metadata": {},
   "outputs": [
    {
     "data": {
      "text/plain": [
       "array([0, 2, 4, 6, 8])"
      ]
     },
     "execution_count": 22,
     "metadata": {},
     "output_type": "execute_result"
    }
   ],
   "source": [
    "vec[::2]"
   ]
  },
  {
   "cell_type": "markdown",
   "id": "ad5062f6",
   "metadata": {},
   "source": [
    "### Question 2\n",
    "Predict the output of the following commands:"
   ]
  },
  {
   "cell_type": "code",
   "execution_count": 24,
   "id": "648a913b",
   "metadata": {},
   "outputs": [
    {
     "data": {
      "text/plain": [
       "array([0, 1, 2, 3])"
      ]
     },
     "execution_count": 24,
     "metadata": {},
     "output_type": "execute_result"
    }
   ],
   "source": [
    "vec[:4]"
   ]
  },
  {
   "cell_type": "code",
   "execution_count": 25,
   "id": "477e3590",
   "metadata": {},
   "outputs": [
    {
     "data": {
      "text/plain": [
       "array([5, 7])"
      ]
     },
     "execution_count": 25,
     "metadata": {},
     "output_type": "execute_result"
    }
   ],
   "source": [
    "vec[5:9:2]"
   ]
  },
  {
   "cell_type": "code",
   "execution_count": 26,
   "id": "2e2b7275",
   "metadata": {},
   "outputs": [
    {
     "data": {
      "text/plain": [
       "array([0, 2, 4, 6])"
      ]
     },
     "execution_count": 26,
     "metadata": {},
     "output_type": "execute_result"
    }
   ],
   "source": [
    "vec[:7:2]"
   ]
  },
  {
   "cell_type": "code",
   "execution_count": 27,
   "id": "0a9d2644",
   "metadata": {},
   "outputs": [
    {
     "data": {
      "text/plain": [
       "array([2, 4, 6, 8])"
      ]
     },
     "execution_count": 27,
     "metadata": {},
     "output_type": "execute_result"
    }
   ],
   "source": [
    "vec[2::2]"
   ]
  },
  {
   "cell_type": "markdown",
   "id": "07dbe199",
   "metadata": {},
   "source": [
    "### Boolean indexing"
   ]
  },
  {
   "cell_type": "markdown",
   "id": "2f7784df",
   "metadata": {},
   "source": [
    "Do you remember how to create an array that is true if and only if `vec` is smaller than 5?"
   ]
  },
  {
   "cell_type": "code",
   "execution_count": 28,
   "id": "8224dd0a",
   "metadata": {},
   "outputs": [
    {
     "data": {
      "text/plain": [
       "array([0, 1, 2, 3, 4, 5, 6, 7, 8, 9])"
      ]
     },
     "execution_count": 28,
     "metadata": {},
     "output_type": "execute_result"
    }
   ],
   "source": [
    "vec = np.arange(10)\n",
    "vec"
   ]
  },
  {
   "cell_type": "code",
   "execution_count": 29,
   "id": "5fa0da56",
   "metadata": {},
   "outputs": [
    {
     "data": {
      "text/plain": [
       "array([ True,  True,  True,  True,  True,  True, False, False, False,\n",
       "       False])"
      ]
     },
     "execution_count": 29,
     "metadata": {},
     "output_type": "execute_result"
    }
   ],
   "source": [
    "selector = vec <= 5\n",
    "selector"
   ]
  },
  {
   "cell_type": "markdown",
   "id": "baee1cd7",
   "metadata": {},
   "source": [
    "You can use these boolean arrays to subset the corresponding true values."
   ]
  },
  {
   "cell_type": "code",
   "execution_count": 30,
   "id": "bbab66b1",
   "metadata": {},
   "outputs": [
    {
     "data": {
      "text/plain": [
       "array([0, 1, 2, 3, 4, 5, 6, 7, 8, 9])"
      ]
     },
     "execution_count": 30,
     "metadata": {},
     "output_type": "execute_result"
    }
   ],
   "source": [
    "vec"
   ]
  },
  {
   "cell_type": "code",
   "execution_count": 31,
   "id": "bf2c59a8",
   "metadata": {},
   "outputs": [
    {
     "data": {
      "text/plain": [
       "array([0, 1, 2, 3, 4, 5])"
      ]
     },
     "execution_count": 31,
     "metadata": {},
     "output_type": "execute_result"
    }
   ],
   "source": [
    "vec[selector]"
   ]
  },
  {
   "cell_type": "code",
   "execution_count": 32,
   "id": "2f8b2757",
   "metadata": {},
   "outputs": [
    {
     "data": {
      "text/plain": [
       "array([0, 1, 2, 3, 4, 5])"
      ]
     },
     "execution_count": 32,
     "metadata": {},
     "output_type": "execute_result"
    }
   ],
   "source": [
    "vec[vec<=5]"
   ]
  },
  {
   "cell_type": "markdown",
   "id": "9c410878",
   "metadata": {},
   "source": [
    "You can do the same with matrices:"
   ]
  },
  {
   "cell_type": "code",
   "execution_count": 33,
   "id": "dc4b31fd",
   "metadata": {},
   "outputs": [],
   "source": [
    "mat_1 = np.array([[1, 2], #mat mean matrix not math     \n",
    "       [3, 4],\n",
    "       [5, 6]])"
   ]
  },
  {
   "cell_type": "code",
   "execution_count": null,
   "id": "1a2719f5",
   "metadata": {},
   "outputs": [
    {
     "data": {
      "text/plain": [
       "array([[False, False],\n",
       "       [ True,  True],\n",
       "       [ True,  True]])"
      ]
     },
     "execution_count": 34,
     "metadata": {},
     "output_type": "execute_result"
    }
   ],
   "source": [
    "mat_1 >= 3 # now the loose the organization the order so vectors are better?"
   ]
  },
  {
   "cell_type": "code",
   "execution_count": 35,
   "id": "64702559",
   "metadata": {},
   "outputs": [
    {
     "data": {
      "text/plain": [
       "array([3, 4, 5, 6])"
      ]
     },
     "execution_count": 35,
     "metadata": {},
     "output_type": "execute_result"
    }
   ],
   "source": [
    "mat_1[mat_1 >= 3]"
   ]
  },
  {
   "cell_type": "markdown",
   "id": "50bc1a98",
   "metadata": {},
   "source": [
    "### Questions 3\n",
    "- Consider the example matrix from above and subset all entries with values between 2 and 4. You can try to do this in one line or do it through multiple lines!"
   ]
  },
  {
   "cell_type": "code",
   "execution_count": 37,
   "id": "c7123b63",
   "metadata": {},
   "outputs": [
    {
     "data": {
      "text/plain": [
       "array([[3, 4],\n",
       "       [5, 6]])"
      ]
     },
     "execution_count": 37,
     "metadata": {},
     "output_type": "execute_result"
    }
   ],
   "source": [
    "mat_1[1:5]"
   ]
  },
  {
   "cell_type": "code",
   "execution_count": 38,
   "id": "b7777296",
   "metadata": {},
   "outputs": [
    {
     "data": {
      "text/plain": [
       "array([[ True,  True],\n",
       "       [ True, False],\n",
       "       [False, False]])"
      ]
     },
     "execution_count": 38,
     "metadata": {},
     "output_type": "execute_result"
    }
   ],
   "source": [
    "mat_1 <=3"
   ]
  },
  {
   "cell_type": "code",
   "execution_count": null,
   "id": "193ddbd7",
   "metadata": {},
   "outputs": [
    {
     "data": {
      "text/plain": [
       "array([2, 3])"
      ]
     },
     "execution_count": 46,
     "metadata": {},
     "output_type": "execute_result"
    }
   ],
   "source": [
    "mat_1[(mat_1 >=2) & (mat_1 <4)] # how the teacher did the excercice"
   ]
  },
  {
   "cell_type": "markdown",
   "id": "8fb95f7e",
   "metadata": {},
   "source": [
    "# Pandas\n",
    "## Python's package for handling data\n",
    "### Motivation for pandas\n",
    "Dictionaries allow us to save multiple attributes of a particular object. For example, we can store some information about a lesson:"
   ]
  },
  {
   "cell_type": "code",
   "execution_count": 47,
   "id": "5e3ba5c3",
   "metadata": {},
   "outputs": [],
   "source": [
    "lesson_5 = {\n",
    "    'topic': 'Numpy',\n",
    "    'teacher': 'Sharon',\n",
    "    'week': 5\n",
    "}"
   ]
  },
  {
   "cell_type": "markdown",
   "id": "52632b13",
   "metadata": {},
   "source": [
    "Often, we collect multiple observations for which we record the same attributes and we'd like to store them together:"
   ]
  },
  {
   "cell_type": "code",
   "execution_count": 48,
   "id": "a581c276",
   "metadata": {},
   "outputs": [],
   "source": [
    "lesson_3 = {\n",
    "    'topic': 'Basics of Python 2',\n",
    "    'teacher': 'Sharon',\n",
    "    'week': 3\n",
    "}\n",
    "lesson_1 = {\n",
    "    'topic': 'Setting up Python',\n",
    "    'teacher': 'Abhi',\n",
    "    'week': 1\n",
    "}"
   ]
  },
  {
   "cell_type": "markdown",
   "id": "033a2e2c",
   "metadata": {},
   "source": [
    "We could go about this by storing them in a list:"
   ]
  },
  {
   "cell_type": "code",
   "execution_count": 49,
   "id": "4fff6247",
   "metadata": {},
   "outputs": [],
   "source": [
    "lst_lessons = [lesson_5, lesson_3, lesson_1]"
   ]
  },
  {
   "cell_type": "code",
   "execution_count": 50,
   "id": "b94d1b2b",
   "metadata": {},
   "outputs": [
    {
     "data": {
      "text/plain": [
       "[{'topic': 'Numpy', 'teacher': 'Sharon', 'week': 5},\n",
       " {'topic': 'Basics of Python 2', 'teacher': 'Sharon', 'week': 3},\n",
       " {'topic': 'Setting up Python', 'teacher': 'Abhi', 'week': 1}]"
      ]
     },
     "execution_count": 50,
     "metadata": {},
     "output_type": "execute_result"
    }
   ],
   "source": [
    "lst_lessons"
   ]
  },
  {
   "cell_type": "markdown",
   "id": "9bf7f2f2",
   "metadata": {},
   "source": [
    "However, such lists are lacking a lot of functionality. For example, we may want to print out only those observations where Jasmine was the teacher. We'd have to use a for loop for this:"
   ]
  },
  {
   "cell_type": "code",
   "execution_count": 51,
   "id": "3462b682",
   "metadata": {},
   "outputs": [
    {
     "data": {
      "text/plain": [
       "[{'topic': 'Numpy', 'teacher': 'Sharon', 'week': 5},\n",
       " {'topic': 'Basics of Python 2', 'teacher': 'Sharon', 'week': 3}]"
      ]
     },
     "execution_count": 51,
     "metadata": {},
     "output_type": "execute_result"
    }
   ],
   "source": [
    "sharons_lessons = [\n",
    "    lesson for lesson in lst_lessons if lesson['teacher'] == 'Sharon'\n",
    "]\n",
    "sharons_lessons"
   ]
  },
  {
   "cell_type": "markdown",
   "id": "8bc071e7",
   "metadata": {},
   "source": [
    "We therefore need a new data structure that can record multiple pieces of information about multiple observations. This is provided by `pandas` (which stands for *panel data*):"
   ]
  },
  {
   "cell_type": "code",
   "execution_count": 52,
   "id": "e3d9dea2",
   "metadata": {},
   "outputs": [],
   "source": [
    "#We normally import pandas like this\n",
    "import pandas as pd"
   ]
  },
  {
   "cell_type": "markdown",
   "id": "b48b8e88",
   "metadata": {},
   "source": [
    "The core object in pandas is a *data frame*, which consists of observations organized along its rows and different pieces of information about its observations organized along its columns."
   ]
  },
  {
   "cell_type": "code",
   "execution_count": 53,
   "id": "1c5acd53",
   "metadata": {},
   "outputs": [
    {
     "data": {
      "text/html": [
       "<div>\n",
       "<style scoped>\n",
       "    .dataframe tbody tr th:only-of-type {\n",
       "        vertical-align: middle;\n",
       "    }\n",
       "\n",
       "    .dataframe tbody tr th {\n",
       "        vertical-align: top;\n",
       "    }\n",
       "\n",
       "    .dataframe thead th {\n",
       "        text-align: right;\n",
       "    }\n",
       "</style>\n",
       "<table border=\"1\" class=\"dataframe\">\n",
       "  <thead>\n",
       "    <tr style=\"text-align: right;\">\n",
       "      <th></th>\n",
       "      <th>topic</th>\n",
       "      <th>teacher</th>\n",
       "      <th>week</th>\n",
       "    </tr>\n",
       "  </thead>\n",
       "  <tbody>\n",
       "    <tr>\n",
       "      <th>0</th>\n",
       "      <td>Numpy</td>\n",
       "      <td>Sharon</td>\n",
       "      <td>5</td>\n",
       "    </tr>\n",
       "    <tr>\n",
       "      <th>1</th>\n",
       "      <td>Basics of Python 2</td>\n",
       "      <td>Sharon</td>\n",
       "      <td>3</td>\n",
       "    </tr>\n",
       "    <tr>\n",
       "      <th>2</th>\n",
       "      <td>Setting up Python</td>\n",
       "      <td>Abhi</td>\n",
       "      <td>1</td>\n",
       "    </tr>\n",
       "  </tbody>\n",
       "</table>\n",
       "</div>"
      ],
      "text/plain": [
       "                topic teacher  week\n",
       "0               Numpy  Sharon     5\n",
       "1  Basics of Python 2  Sharon     3\n",
       "2   Setting up Python    Abhi     1"
      ]
     },
     "execution_count": 53,
     "metadata": {},
     "output_type": "execute_result"
    }
   ],
   "source": [
    "df_lessons = pd.DataFrame(lst_lessons)\n",
    "df_lessons"
   ]
  },
  {
   "cell_type": "markdown",
   "id": "ec9c40b5",
   "metadata": {},
   "source": [
    "### Finding out basic information"
   ]
  },
  {
   "cell_type": "code",
   "execution_count": 54,
   "id": "d4bd6da1",
   "metadata": {},
   "outputs": [
    {
     "data": {
      "text/plain": [
       "(3, 3)"
      ]
     },
     "execution_count": 54,
     "metadata": {},
     "output_type": "execute_result"
    }
   ],
   "source": [
    "df_lessons.shape"
   ]
  },
  {
   "cell_type": "code",
   "execution_count": 55,
   "id": "7b7770a9",
   "metadata": {},
   "outputs": [
    {
     "data": {
      "text/plain": [
       "Index(['topic', 'teacher', 'week'], dtype='object')"
      ]
     },
     "execution_count": 55,
     "metadata": {},
     "output_type": "execute_result"
    }
   ],
   "source": [
    "df_lessons.columns"
   ]
  },
  {
   "cell_type": "markdown",
   "id": "efde2867",
   "metadata": {},
   "source": [
    "### Indexing"
   ]
  },
  {
   "cell_type": "markdown",
   "id": "c1c5b376",
   "metadata": {},
   "source": [
    "Regular brackets return a specific column or a subset of columns:"
   ]
  },
  {
   "cell_type": "code",
   "execution_count": 56,
   "id": "267f1631",
   "metadata": {},
   "outputs": [
    {
     "data": {
      "text/plain": [
       "0    Sharon\n",
       "1    Sharon\n",
       "2      Abhi\n",
       "Name: teacher, dtype: object"
      ]
     },
     "execution_count": 56,
     "metadata": {},
     "output_type": "execute_result"
    }
   ],
   "source": [
    "df_lessons['teacher']"
   ]
  },
  {
   "cell_type": "markdown",
   "id": "4aea25c2",
   "metadata": {},
   "source": [
    "(*Note:* The object that is returned is called a `pd.Series` and has a few additional features compared to a one-dimensional numpy array. I personally don't use those additional features and think they are counter-productive, but you can look them up if you have to interact with them.)"
   ]
  },
  {
   "cell_type": "markdown",
   "id": "f97c70fd",
   "metadata": {},
   "source": [
    "You can operate on those columns in the same way you would operate on numpy arrays:"
   ]
  },
  {
   "cell_type": "code",
   "execution_count": 58,
   "id": "0dae51cd",
   "metadata": {},
   "outputs": [
    {
     "data": {
      "text/plain": [
       "0     True\n",
       "1     True\n",
       "2    False\n",
       "Name: teacher, dtype: bool"
      ]
     },
     "execution_count": 58,
     "metadata": {},
     "output_type": "execute_result"
    }
   ],
   "source": [
    "df_lessons['teacher'] == 'Sharon'"
   ]
  },
  {
   "cell_type": "code",
   "execution_count": 59,
   "id": "eaa14bdd",
   "metadata": {},
   "outputs": [
    {
     "data": {
      "text/html": [
       "<div>\n",
       "<style scoped>\n",
       "    .dataframe tbody tr th:only-of-type {\n",
       "        vertical-align: middle;\n",
       "    }\n",
       "\n",
       "    .dataframe tbody tr th {\n",
       "        vertical-align: top;\n",
       "    }\n",
       "\n",
       "    .dataframe thead th {\n",
       "        text-align: right;\n",
       "    }\n",
       "</style>\n",
       "<table border=\"1\" class=\"dataframe\">\n",
       "  <thead>\n",
       "    <tr style=\"text-align: right;\">\n",
       "      <th></th>\n",
       "      <th>topic</th>\n",
       "      <th>teacher</th>\n",
       "    </tr>\n",
       "  </thead>\n",
       "  <tbody>\n",
       "    <tr>\n",
       "      <th>0</th>\n",
       "      <td>Numpy</td>\n",
       "      <td>Sharon</td>\n",
       "    </tr>\n",
       "    <tr>\n",
       "      <th>1</th>\n",
       "      <td>Basics of Python 2</td>\n",
       "      <td>Sharon</td>\n",
       "    </tr>\n",
       "    <tr>\n",
       "      <th>2</th>\n",
       "      <td>Setting up Python</td>\n",
       "      <td>Abhi</td>\n",
       "    </tr>\n",
       "  </tbody>\n",
       "</table>\n",
       "</div>"
      ],
      "text/plain": [
       "                topic teacher\n",
       "0               Numpy  Sharon\n",
       "1  Basics of Python 2  Sharon\n",
       "2   Setting up Python    Abhi"
      ]
     },
     "execution_count": 59,
     "metadata": {},
     "output_type": "execute_result"
    }
   ],
   "source": [
    "df_lessons[['topic', 'teacher']]"
   ]
  },
  {
   "cell_type": "markdown",
   "id": "7c0d68f9",
   "metadata": {},
   "source": [
    "`.loc` allows you to index data frames by row numbers and column names:"
   ]
  },
  {
   "cell_type": "code",
   "execution_count": 60,
   "id": "869266b1",
   "metadata": {},
   "outputs": [
    {
     "data": {
      "text/plain": [
       "'Sharon'"
      ]
     },
     "execution_count": 60,
     "metadata": {},
     "output_type": "execute_result"
    }
   ],
   "source": [
    "df_lessons.loc[1, 'teacher']"
   ]
  },
  {
   "cell_type": "markdown",
   "id": "ebce7e79",
   "metadata": {},
   "source": [
    "This also works with slicing:"
   ]
  },
  {
   "cell_type": "code",
   "execution_count": 61,
   "id": "6fcd1f93",
   "metadata": {},
   "outputs": [
    {
     "data": {
      "text/plain": [
       "1    Sharon\n",
       "2      Abhi\n",
       "Name: teacher, dtype: object"
      ]
     },
     "execution_count": 61,
     "metadata": {},
     "output_type": "execute_result"
    }
   ],
   "source": [
    "df_lessons.loc[1:, 'teacher']"
   ]
  },
  {
   "cell_type": "code",
   "execution_count": 62,
   "id": "636daff1",
   "metadata": {},
   "outputs": [
    {
     "data": {
      "text/html": [
       "<div>\n",
       "<style scoped>\n",
       "    .dataframe tbody tr th:only-of-type {\n",
       "        vertical-align: middle;\n",
       "    }\n",
       "\n",
       "    .dataframe tbody tr th {\n",
       "        vertical-align: top;\n",
       "    }\n",
       "\n",
       "    .dataframe thead th {\n",
       "        text-align: right;\n",
       "    }\n",
       "</style>\n",
       "<table border=\"1\" class=\"dataframe\">\n",
       "  <thead>\n",
       "    <tr style=\"text-align: right;\">\n",
       "      <th></th>\n",
       "      <th>topic</th>\n",
       "      <th>teacher</th>\n",
       "    </tr>\n",
       "  </thead>\n",
       "  <tbody>\n",
       "    <tr>\n",
       "      <th>0</th>\n",
       "      <td>Numpy</td>\n",
       "      <td>Sharon</td>\n",
       "    </tr>\n",
       "    <tr>\n",
       "      <th>1</th>\n",
       "      <td>Basics of Python 2</td>\n",
       "      <td>Sharon</td>\n",
       "    </tr>\n",
       "    <tr>\n",
       "      <th>2</th>\n",
       "      <td>Setting up Python</td>\n",
       "      <td>Abhi</td>\n",
       "    </tr>\n",
       "  </tbody>\n",
       "</table>\n",
       "</div>"
      ],
      "text/plain": [
       "                topic teacher\n",
       "0               Numpy  Sharon\n",
       "1  Basics of Python 2  Sharon\n",
       "2   Setting up Python    Abhi"
      ]
     },
     "execution_count": 62,
     "metadata": {},
     "output_type": "execute_result"
    }
   ],
   "source": [
    "df_lessons.loc[:, ['topic', 'teacher']]"
   ]
  },
  {
   "cell_type": "markdown",
   "id": "72b20cef",
   "metadata": {},
   "source": [
    "`iloc` works in the same way, but allows you to access columns according to their numerical index rather than their name:"
   ]
  },
  {
   "cell_type": "code",
   "execution_count": 64,
   "id": "40cb8ab4",
   "metadata": {},
   "outputs": [
    {
     "data": {
      "text/plain": [
       "'Sharon'"
      ]
     },
     "execution_count": 64,
     "metadata": {},
     "output_type": "execute_result"
    }
   ],
   "source": [
    "df_lessons.iloc[1, 1] # second name which is sharon - for basic of python 2"
   ]
  },
  {
   "cell_type": "markdown",
   "id": "f43b1e0e",
   "metadata": {},
   "source": [
    "Finally you can also do boolean indexing with rectangular brackets."
   ]
  },
  {
   "cell_type": "code",
   "execution_count": 66,
   "id": "9313c995",
   "metadata": {},
   "outputs": [
    {
     "data": {
      "text/html": [
       "<div>\n",
       "<style scoped>\n",
       "    .dataframe tbody tr th:only-of-type {\n",
       "        vertical-align: middle;\n",
       "    }\n",
       "\n",
       "    .dataframe tbody tr th {\n",
       "        vertical-align: top;\n",
       "    }\n",
       "\n",
       "    .dataframe thead th {\n",
       "        text-align: right;\n",
       "    }\n",
       "</style>\n",
       "<table border=\"1\" class=\"dataframe\">\n",
       "  <thead>\n",
       "    <tr style=\"text-align: right;\">\n",
       "      <th></th>\n",
       "      <th>topic</th>\n",
       "      <th>teacher</th>\n",
       "      <th>week</th>\n",
       "    </tr>\n",
       "  </thead>\n",
       "  <tbody>\n",
       "    <tr>\n",
       "      <th>0</th>\n",
       "      <td>Numpy</td>\n",
       "      <td>Sharon</td>\n",
       "      <td>5</td>\n",
       "    </tr>\n",
       "    <tr>\n",
       "      <th>1</th>\n",
       "      <td>Basics of Python 2</td>\n",
       "      <td>Sharon</td>\n",
       "      <td>3</td>\n",
       "    </tr>\n",
       "  </tbody>\n",
       "</table>\n",
       "</div>"
      ],
      "text/plain": [
       "                topic teacher  week\n",
       "0               Numpy  Sharon     5\n",
       "1  Basics of Python 2  Sharon     3"
      ]
     },
     "execution_count": 66,
     "metadata": {},
     "output_type": "execute_result"
    }
   ],
   "source": [
    "selector = df_lessons['teacher'] == 'Sharon' #every sharon will be returned in output\n",
    "df_lessons[selector]"
   ]
  },
  {
   "cell_type": "markdown",
   "id": "b4b4acbb",
   "metadata": {},
   "source": [
    "(Note that the single `=` assigns the command to the right of it to the variable on its left. The double `==` on the other hand compares the values in `df_lessons['teacher']` and determines whether they are equal to `'Jasmine'`.)"
   ]
  },
  {
   "cell_type": "code",
   "execution_count": 68,
   "id": "6c8f379f",
   "metadata": {},
   "outputs": [
    {
     "data": {
      "text/html": [
       "<div>\n",
       "<style scoped>\n",
       "    .dataframe tbody tr th:only-of-type {\n",
       "        vertical-align: middle;\n",
       "    }\n",
       "\n",
       "    .dataframe tbody tr th {\n",
       "        vertical-align: top;\n",
       "    }\n",
       "\n",
       "    .dataframe thead th {\n",
       "        text-align: right;\n",
       "    }\n",
       "</style>\n",
       "<table border=\"1\" class=\"dataframe\">\n",
       "  <thead>\n",
       "    <tr style=\"text-align: right;\">\n",
       "      <th></th>\n",
       "      <th>topic</th>\n",
       "      <th>teacher</th>\n",
       "      <th>week</th>\n",
       "    </tr>\n",
       "  </thead>\n",
       "  <tbody>\n",
       "    <tr>\n",
       "      <th>0</th>\n",
       "      <td>Numpy</td>\n",
       "      <td>Sharon</td>\n",
       "      <td>5</td>\n",
       "    </tr>\n",
       "    <tr>\n",
       "      <th>1</th>\n",
       "      <td>Basics of Python 2</td>\n",
       "      <td>Sharon</td>\n",
       "      <td>3</td>\n",
       "    </tr>\n",
       "  </tbody>\n",
       "</table>\n",
       "</div>"
      ],
      "text/plain": [
       "                topic teacher  week\n",
       "0               Numpy  Sharon     5\n",
       "1  Basics of Python 2  Sharon     3"
      ]
     },
     "execution_count": 68,
     "metadata": {},
     "output_type": "execute_result"
    }
   ],
   "source": [
    "df_lessons[df_lessons['teacher']=='Sharon'] # finding the rows that equals to sharon -  it returns all sharons column"
   ]
  },
  {
   "cell_type": "markdown",
   "id": "bb05b08e",
   "metadata": {},
   "source": [
    "Finally, you can add new columns in the same way you would add a new key, value pair to a dictionary:"
   ]
  },
  {
   "cell_type": "code",
   "execution_count": 69,
   "id": "63d9a5ae",
   "metadata": {},
   "outputs": [
    {
     "data": {
      "text/html": [
       "<div>\n",
       "<style scoped>\n",
       "    .dataframe tbody tr th:only-of-type {\n",
       "        vertical-align: middle;\n",
       "    }\n",
       "\n",
       "    .dataframe tbody tr th {\n",
       "        vertical-align: top;\n",
       "    }\n",
       "\n",
       "    .dataframe thead th {\n",
       "        text-align: right;\n",
       "    }\n",
       "</style>\n",
       "<table border=\"1\" class=\"dataframe\">\n",
       "  <thead>\n",
       "    <tr style=\"text-align: right;\">\n",
       "      <th></th>\n",
       "      <th>topic</th>\n",
       "      <th>teacher</th>\n",
       "      <th>week</th>\n",
       "    </tr>\n",
       "  </thead>\n",
       "  <tbody>\n",
       "    <tr>\n",
       "      <th>0</th>\n",
       "      <td>Numpy</td>\n",
       "      <td>Sharon</td>\n",
       "      <td>5</td>\n",
       "    </tr>\n",
       "    <tr>\n",
       "      <th>1</th>\n",
       "      <td>Basics of Python 2</td>\n",
       "      <td>Sharon</td>\n",
       "      <td>3</td>\n",
       "    </tr>\n",
       "    <tr>\n",
       "      <th>2</th>\n",
       "      <td>Setting up Python</td>\n",
       "      <td>Abhi</td>\n",
       "      <td>1</td>\n",
       "    </tr>\n",
       "  </tbody>\n",
       "</table>\n",
       "</div>"
      ],
      "text/plain": [
       "                topic teacher  week\n",
       "0               Numpy  Sharon     5\n",
       "1  Basics of Python 2  Sharon     3\n",
       "2   Setting up Python    Abhi     1"
      ]
     },
     "execution_count": 69,
     "metadata": {},
     "output_type": "execute_result"
    }
   ],
   "source": [
    "df_lessons"
   ]
  },
  {
   "cell_type": "code",
   "execution_count": 70,
   "id": "4fe415e1",
   "metadata": {},
   "outputs": [],
   "source": [
    "df_lessons['homework'] = [True, True, False]"
   ]
  },
  {
   "cell_type": "code",
   "execution_count": 71,
   "id": "87658911",
   "metadata": {},
   "outputs": [
    {
     "data": {
      "text/html": [
       "<div>\n",
       "<style scoped>\n",
       "    .dataframe tbody tr th:only-of-type {\n",
       "        vertical-align: middle;\n",
       "    }\n",
       "\n",
       "    .dataframe tbody tr th {\n",
       "        vertical-align: top;\n",
       "    }\n",
       "\n",
       "    .dataframe thead th {\n",
       "        text-align: right;\n",
       "    }\n",
       "</style>\n",
       "<table border=\"1\" class=\"dataframe\">\n",
       "  <thead>\n",
       "    <tr style=\"text-align: right;\">\n",
       "      <th></th>\n",
       "      <th>topic</th>\n",
       "      <th>teacher</th>\n",
       "      <th>week</th>\n",
       "      <th>homework</th>\n",
       "    </tr>\n",
       "  </thead>\n",
       "  <tbody>\n",
       "    <tr>\n",
       "      <th>0</th>\n",
       "      <td>Numpy</td>\n",
       "      <td>Sharon</td>\n",
       "      <td>5</td>\n",
       "      <td>True</td>\n",
       "    </tr>\n",
       "    <tr>\n",
       "      <th>1</th>\n",
       "      <td>Basics of Python 2</td>\n",
       "      <td>Sharon</td>\n",
       "      <td>3</td>\n",
       "      <td>True</td>\n",
       "    </tr>\n",
       "    <tr>\n",
       "      <th>2</th>\n",
       "      <td>Setting up Python</td>\n",
       "      <td>Abhi</td>\n",
       "      <td>1</td>\n",
       "      <td>False</td>\n",
       "    </tr>\n",
       "  </tbody>\n",
       "</table>\n",
       "</div>"
      ],
      "text/plain": [
       "                topic teacher  week  homework\n",
       "0               Numpy  Sharon     5      True\n",
       "1  Basics of Python 2  Sharon     3      True\n",
       "2   Setting up Python    Abhi     1     False"
      ]
     },
     "execution_count": 71,
     "metadata": {},
     "output_type": "execute_result"
    }
   ],
   "source": [
    "df_lessons"
   ]
  },
  {
   "cell_type": "markdown",
   "id": "26f6e27e",
   "metadata": {},
   "source": [
    "### Exercises\n",
    "1. Create a data frame that additionally includes this week (week 6) with the appropriate topic (pandas) and teacher (Sam).\n",
    "2. Print out the topic for the second row.\n",
    "3. Subset the data frame to only print out the lessons for week 3 and higher.\n",
    "4. Create a new data frame that also includes week 7's lesson with teacher Sam. However, you don't know the topic yet. How does `pandas` represent this information? (Hint: Create a dictionary that only contains the keys `week` and `teacher`, but not `topic`. Try adding it to the list we used above and turning it into a dataframe.)\n",
    "5. You could have alternately also represented this information as a two-dimensional array with observations structured along rows and variables structured along columns. What would the difference be and why might this be a bad idea in this case? Discuss with the other students at your table."
   ]
  },
  {
   "cell_type": "code",
   "execution_count": 114,
   "id": "69b9d3a8",
   "metadata": {},
   "outputs": [],
   "source": [
    "\n",
    "lesson_6 = {\n",
    "    'topic': 'pandas',\n",
    "    'teacher': 'Sam',\n",
    "    'week': 6\n",
    "}\n"
   ]
  },
  {
   "cell_type": "code",
   "execution_count": 115,
   "id": "5662f995",
   "metadata": {},
   "outputs": [],
   "source": [
    "lesson_6\n",
    "df_lessons = pd.DataFrame(lst_lessons) #need to run this again with updated lst_lessons"
   ]
  },
  {
   "cell_type": "code",
   "execution_count": 116,
   "id": "788fcdc4",
   "metadata": {},
   "outputs": [
    {
     "data": {
      "text/html": [
       "<div>\n",
       "<style scoped>\n",
       "    .dataframe tbody tr th:only-of-type {\n",
       "        vertical-align: middle;\n",
       "    }\n",
       "\n",
       "    .dataframe tbody tr th {\n",
       "        vertical-align: top;\n",
       "    }\n",
       "\n",
       "    .dataframe thead th {\n",
       "        text-align: right;\n",
       "    }\n",
       "</style>\n",
       "<table border=\"1\" class=\"dataframe\">\n",
       "  <thead>\n",
       "    <tr style=\"text-align: right;\">\n",
       "      <th></th>\n",
       "      <th>topic</th>\n",
       "      <th>teacher</th>\n",
       "      <th>week</th>\n",
       "    </tr>\n",
       "  </thead>\n",
       "  <tbody>\n",
       "    <tr>\n",
       "      <th>0</th>\n",
       "      <td>pandas</td>\n",
       "      <td>Sam</td>\n",
       "      <td>6</td>\n",
       "    </tr>\n",
       "    <tr>\n",
       "      <th>1</th>\n",
       "      <td>Numpy</td>\n",
       "      <td>Sharon</td>\n",
       "      <td>5</td>\n",
       "    </tr>\n",
       "    <tr>\n",
       "      <th>2</th>\n",
       "      <td>Basics of Python 2</td>\n",
       "      <td>Sharon</td>\n",
       "      <td>3</td>\n",
       "    </tr>\n",
       "    <tr>\n",
       "      <th>3</th>\n",
       "      <td>Setting up Python</td>\n",
       "      <td>Abhi</td>\n",
       "      <td>1</td>\n",
       "    </tr>\n",
       "    <tr>\n",
       "      <th>4</th>\n",
       "      <td>pandas</td>\n",
       "      <td>Sam</td>\n",
       "      <td>6</td>\n",
       "    </tr>\n",
       "  </tbody>\n",
       "</table>\n",
       "</div>"
      ],
      "text/plain": [
       "                topic teacher  week\n",
       "0              pandas     Sam     6\n",
       "1               Numpy  Sharon     5\n",
       "2  Basics of Python 2  Sharon     3\n",
       "3   Setting up Python    Abhi     1\n",
       "4              pandas     Sam     6"
      ]
     },
     "execution_count": 116,
     "metadata": {},
     "output_type": "execute_result"
    }
   ],
   "source": [
    "lst_lessons = [lesson_6, lesson_5, lesson_3, lesson_1]\n",
    "\n",
    "df_lessons.loc[:, ['topic', 'teacher', 'week']]\n"
   ]
  },
  {
   "cell_type": "code",
   "execution_count": 122,
   "id": "cbd85417",
   "metadata": {},
   "outputs": [
    {
     "data": {
      "text/html": [
       "<div>\n",
       "<style scoped>\n",
       "    .dataframe tbody tr th:only-of-type {\n",
       "        vertical-align: middle;\n",
       "    }\n",
       "\n",
       "    .dataframe tbody tr th {\n",
       "        vertical-align: top;\n",
       "    }\n",
       "\n",
       "    .dataframe thead th {\n",
       "        text-align: right;\n",
       "    }\n",
       "</style>\n",
       "<table border=\"1\" class=\"dataframe\">\n",
       "  <thead>\n",
       "    <tr style=\"text-align: right;\">\n",
       "      <th></th>\n",
       "      <th>topic</th>\n",
       "      <th>teacher</th>\n",
       "      <th>week</th>\n",
       "    </tr>\n",
       "  </thead>\n",
       "  <tbody>\n",
       "    <tr>\n",
       "      <th>0</th>\n",
       "      <td>pandas</td>\n",
       "      <td>Sam</td>\n",
       "      <td>6</td>\n",
       "    </tr>\n",
       "    <tr>\n",
       "      <th>1</th>\n",
       "      <td>Numpy</td>\n",
       "      <td>Sharon</td>\n",
       "      <td>5</td>\n",
       "    </tr>\n",
       "    <tr>\n",
       "      <th>2</th>\n",
       "      <td>Basics of Python 2</td>\n",
       "      <td>Sharon</td>\n",
       "      <td>3</td>\n",
       "    </tr>\n",
       "    <tr>\n",
       "      <th>3</th>\n",
       "      <td>Setting up Python</td>\n",
       "      <td>Abhi</td>\n",
       "      <td>1</td>\n",
       "    </tr>\n",
       "    <tr>\n",
       "      <th>4</th>\n",
       "      <td>pandas</td>\n",
       "      <td>Sam</td>\n",
       "      <td>6</td>\n",
       "    </tr>\n",
       "    <tr>\n",
       "      <th>5</th>\n",
       "      <td>pandas</td>\n",
       "      <td>Sam</td>\n",
       "      <td>6</td>\n",
       "    </tr>\n",
       "    <tr>\n",
       "      <th>6</th>\n",
       "      <td>pandas</td>\n",
       "      <td>Sam</td>\n",
       "      <td>6</td>\n",
       "    </tr>\n",
       "    <tr>\n",
       "      <th>7</th>\n",
       "      <td>pandas</td>\n",
       "      <td>Sam</td>\n",
       "      <td>6</td>\n",
       "    </tr>\n",
       "    <tr>\n",
       "      <th>8</th>\n",
       "      <td>pandas</td>\n",
       "      <td>Sam</td>\n",
       "      <td>6</td>\n",
       "    </tr>\n",
       "  </tbody>\n",
       "</table>\n",
       "</div>"
      ],
      "text/plain": [
       "                topic teacher  week\n",
       "0              pandas     Sam     6\n",
       "1               Numpy  Sharon     5\n",
       "2  Basics of Python 2  Sharon     3\n",
       "3   Setting up Python    Abhi     1\n",
       "4              pandas     Sam     6\n",
       "5              pandas     Sam     6\n",
       "6              pandas     Sam     6\n",
       "7              pandas     Sam     6\n",
       "8              pandas     Sam     6"
      ]
     },
     "execution_count": 122,
     "metadata": {},
     "output_type": "execute_result"
    }
   ],
   "source": [
    "lst_lessons.append(lesson_6)\n",
    "df_lessons = pd.DataFrame(lst_lessons) \n",
    "df_lessons"
   ]
  },
  {
   "cell_type": "code",
   "execution_count": 118,
   "id": "a52aeeeb",
   "metadata": {},
   "outputs": [],
   "source": [
    "#how teacher did it\n",
    "wk6_dict = {\n",
    "    'topic' : 'Panda' ,\n",
    "    'teacher' : 'Abhi' ,\n",
    "    'week' : 6\n",
    "}\n",
    "df = pd.DataFrame(lst_lessons)\n"
   ]
  },
  {
   "cell_type": "code",
   "execution_count": 109,
   "id": "9bb1973c",
   "metadata": {},
   "outputs": [
    {
     "data": {
      "text/html": [
       "<div>\n",
       "<style scoped>\n",
       "    .dataframe tbody tr th:only-of-type {\n",
       "        vertical-align: middle;\n",
       "    }\n",
       "\n",
       "    .dataframe tbody tr th {\n",
       "        vertical-align: top;\n",
       "    }\n",
       "\n",
       "    .dataframe thead th {\n",
       "        text-align: right;\n",
       "    }\n",
       "</style>\n",
       "<table border=\"1\" class=\"dataframe\">\n",
       "  <thead>\n",
       "    <tr style=\"text-align: right;\">\n",
       "      <th></th>\n",
       "      <th>topic</th>\n",
       "      <th>teacher</th>\n",
       "      <th>week</th>\n",
       "    </tr>\n",
       "  </thead>\n",
       "  <tbody>\n",
       "    <tr>\n",
       "      <th>0</th>\n",
       "      <td>pandas</td>\n",
       "      <td>Sam</td>\n",
       "      <td>6</td>\n",
       "    </tr>\n",
       "    <tr>\n",
       "      <th>1</th>\n",
       "      <td>Numpy</td>\n",
       "      <td>Sharon</td>\n",
       "      <td>5</td>\n",
       "    </tr>\n",
       "    <tr>\n",
       "      <th>2</th>\n",
       "      <td>Basics of Python 2</td>\n",
       "      <td>Sharon</td>\n",
       "      <td>3</td>\n",
       "    </tr>\n",
       "  </tbody>\n",
       "</table>\n",
       "</div>"
      ],
      "text/plain": [
       "                topic teacher  week\n",
       "0              pandas     Sam     6\n",
       "1               Numpy  Sharon     5\n",
       "2  Basics of Python 2  Sharon     3"
      ]
     },
     "execution_count": 109,
     "metadata": {},
     "output_type": "execute_result"
    }
   ],
   "source": [
    "df[df['week']>=3]"
   ]
  },
  {
   "cell_type": "code",
   "execution_count": 110,
   "id": "a3fd84a0",
   "metadata": {},
   "outputs": [],
   "source": [
    "df_lessons.loc[3] = wk6_dict"
   ]
  },
  {
   "cell_type": "code",
   "execution_count": 99,
   "id": "27f5f0d2",
   "metadata": {},
   "outputs": [
    {
     "data": {
      "text/plain": [
       "'Numpy'"
      ]
     },
     "execution_count": 99,
     "metadata": {},
     "output_type": "execute_result"
    }
   ],
   "source": [
    "df.loc[1, 'topic']\n",
    "df['topic'][1]\n",
    "df.iloc[1,0]"
   ]
  },
  {
   "cell_type": "code",
   "execution_count": 102,
   "id": "f023976d",
   "metadata": {},
   "outputs": [],
   "source": [
    "#you can treat matrix like pandas.. similar"
   ]
  },
  {
   "cell_type": "markdown",
   "id": "64048f04",
   "metadata": {},
   "source": [
    "### Saving and loading a data frame\n",
    "You can save data frames in different formats. A popular format is csv (comma-separated values), which represents each observation in one row and each variable separated by commas."
   ]
  },
  {
   "cell_type": "code",
   "execution_count": 104,
   "id": "01287e4a",
   "metadata": {},
   "outputs": [],
   "source": [
    "df_lessons.to_csv('df_lessons.csv')"
   ]
  },
  {
   "cell_type": "markdown",
   "id": "ec312e81",
   "metadata": {},
   "source": [
    "Let's inspect this file."
   ]
  },
  {
   "cell_type": "markdown",
   "id": "a6b2f786",
   "metadata": {},
   "source": [
    "We'll be using csv files today. Note that they are not always ideal. For example, they do not save the type of your different values which can lead to issues. The hdf5 format is a popular alternative (but a little more complicated to use); alternatively the feather format is lightweight and more reliable, but a little less common."
   ]
  },
  {
   "cell_type": "code",
   "execution_count": 105,
   "id": "6bb866cb",
   "metadata": {},
   "outputs": [],
   "source": [
    "df_lessons_loaded = pd.read_csv('df_lessons.csv')"
   ]
  },
  {
   "cell_type": "code",
   "execution_count": 106,
   "id": "b4b2aef1",
   "metadata": {},
   "outputs": [
    {
     "data": {
      "text/html": [
       "<div>\n",
       "<style scoped>\n",
       "    .dataframe tbody tr th:only-of-type {\n",
       "        vertical-align: middle;\n",
       "    }\n",
       "\n",
       "    .dataframe tbody tr th {\n",
       "        vertical-align: top;\n",
       "    }\n",
       "\n",
       "    .dataframe thead th {\n",
       "        text-align: right;\n",
       "    }\n",
       "</style>\n",
       "<table border=\"1\" class=\"dataframe\">\n",
       "  <thead>\n",
       "    <tr style=\"text-align: right;\">\n",
       "      <th></th>\n",
       "      <th>Unnamed: 0</th>\n",
       "      <th>topic</th>\n",
       "      <th>teacher</th>\n",
       "      <th>week</th>\n",
       "    </tr>\n",
       "  </thead>\n",
       "  <tbody>\n",
       "    <tr>\n",
       "      <th>0</th>\n",
       "      <td>0</td>\n",
       "      <td>pandas</td>\n",
       "      <td>Sam</td>\n",
       "      <td>6</td>\n",
       "    </tr>\n",
       "    <tr>\n",
       "      <th>1</th>\n",
       "      <td>1</td>\n",
       "      <td>Numpy</td>\n",
       "      <td>Sharon</td>\n",
       "      <td>5</td>\n",
       "    </tr>\n",
       "    <tr>\n",
       "      <th>2</th>\n",
       "      <td>2</td>\n",
       "      <td>Basics of Python 2</td>\n",
       "      <td>Sharon</td>\n",
       "      <td>3</td>\n",
       "    </tr>\n",
       "    <tr>\n",
       "      <th>3</th>\n",
       "      <td>3</td>\n",
       "      <td>Panda</td>\n",
       "      <td>Abhi</td>\n",
       "      <td>6</td>\n",
       "    </tr>\n",
       "  </tbody>\n",
       "</table>\n",
       "</div>"
      ],
      "text/plain": [
       "   Unnamed: 0               topic teacher  week\n",
       "0           0              pandas     Sam     6\n",
       "1           1               Numpy  Sharon     5\n",
       "2           2  Basics of Python 2  Sharon     3\n",
       "3           3               Panda    Abhi     6"
      ]
     },
     "execution_count": 106,
     "metadata": {},
     "output_type": "execute_result"
    }
   ],
   "source": [
    "df_lessons_loaded"
   ]
  },
  {
   "cell_type": "code",
   "execution_count": null,
   "id": "3f81c242",
   "metadata": {},
   "outputs": [],
   "source": []
  },
  {
   "cell_type": "markdown",
   "id": "5fbb3ecd",
   "metadata": {},
   "source": [
    "### Exercises\n",
    "1. Read in the file `dot_motion.csv` using pandas and assign it to the variable `df_dm`.\n",
    "2. Try exploring the file and describe the data contained in it.\n",
    "3. Subset the data frame to only contain the observations with a reaction time of above 100.\n",
    "4. Create a new variable 'accuracy' that is 1 if the motion and the choice are matching and 0 otherwise.\n",
    "\n",
    "#### Hint for 4:\n",
    "If the motion and choice are matching, their entries should be equal. Create an array `accuracy` that contains as a boolean whether they are or are not matching. You can turn this boolean array (with True and False value) into a float array (which will assign 1 to True and 0 to False), using `accuracy.astype(float)`.\n"
   ]
  },
  {
   "cell_type": "code",
   "execution_count": null,
   "id": "e23594fe",
   "metadata": {},
   "outputs": [],
   "source": []
  },
  {
   "cell_type": "code",
   "execution_count": null,
   "metadata": {},
   "outputs": [],
   "source": []
  },
  {
   "cell_type": "code",
   "execution_count": null,
   "id": "06dec10f",
   "metadata": {},
   "outputs": [],
   "source": []
  },
  {
   "cell_type": "code",
   "execution_count": null,
   "id": "b9ce01a3",
   "metadata": {},
   "outputs": [],
   "source": []
  }
 ],
 "metadata": {
  "kernelspec": {
   "display_name": "base",
   "language": "python",
   "name": "python3"
  },
  "language_info": {
   "codemirror_mode": {
    "name": "ipython",
    "version": 3
   },
   "file_extension": ".py",
   "mimetype": "text/x-python",
   "name": "python",
   "nbconvert_exporter": "python",
   "pygments_lexer": "ipython3",
   "version": "3.12.7"
  }
 },
 "nbformat": 4,
 "nbformat_minor": 5
}
